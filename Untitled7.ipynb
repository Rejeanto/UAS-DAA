{
 "cells": [
  {
   "cell_type": "code",
   "execution_count": 1,
   "metadata": {},
   "outputs": [],
   "source": [
    "import random\n",
    "from itertools import permutations\n",
    "alltours = permutations\n",
    "\n",
    "def distance_tour(aTour):\n",
    "    return sum(distance_points(aTour[i - 1], aTour[i])\n",
    "        for i in range (len(aTour)))\n",
    "\n",
    "aCity = complex\n",
    "\n",
    "def distance_points(first, second):\n",
    "    return abs(first - second)\n",
    "\n",
    "def generate_cities (number_of_cities): \n",
    "    seed=600;width=500;height=100;\n",
    "    random.seed((number_of_cities, seed))\n",
    "    return frozenset(aCity(random.randint(1, width), random.randint(1,height))\n",
    "        for c in range (number_of_cities))"
   ]
  },
  {
   "cell_type": "code",
   "execution_count": 2,
   "metadata": {},
   "outputs": [],
   "source": [
    "from time import process_time\n",
    "from collections import Counter\n",
    "def tsp(algorithm, kota):\n",
    "    t0 = process_time()\n",
    "    tour = algorithm(kota)\n",
    "    t1 = process_time()\n",
    "    assert Counter(tour) == Counter(kota)\n",
    "    visualize_tour(tour)\n",
    "    print(\"{}:{} cities => tour length {:.0f}(in{:.3f}sec)\".format(name(algorithm), len(tour), distance_tour(tour),t1-t0))\n",
    "    \n",
    "def name(algorithm):return algorithm.__name__.replace('_tsp','')"
   ]
  },
  {
   "cell_type": "code",
   "execution_count": 3,
   "metadata": {},
   "outputs": [],
   "source": [
    "%matplotlib inline\n",
    "import matplotlib.pyplot as plt\n",
    "\n",
    "def visualize_tour(tour, style='bo-'):\n",
    "    if len(tour) > 1000: plt.figure(figsize=(15,10))\n",
    "    start = tour[0:1]\n",
    "    visualize_segment(tour + start, style)\n",
    "    visualize_segment(start, 'rD')\n",
    "def visualize_segment (segment, style='bo-'):\n",
    "        plt.plot([X(c)for c in segment], [Y(c) for c in segment], style, clip_on=False)\n",
    "        plt.axis('scaled')\n",
    "        plt.axis('off')\n",
    "        \n",
    "def X(city): 'X axis'; return city.real\n",
    "\n",
    "def Y(city): 'Y axis'; return city.imag"
   ]
  },
  {
   "cell_type": "code",
   "execution_count": 4,
   "metadata": {},
   "outputs": [],
   "source": [
    "def jakarta(kota):\n",
    "    return shortest_tour(alltours(kota))\n",
    "def shortest_tour(tour): return min(tour, key=distance_tour)"
   ]
  },
  {
   "cell_type": "code",
   "execution_count": 5,
   "metadata": {},
   "outputs": [],
   "source": [
    "from time import process_time\n",
    "from collections import Counter\n",
    "def tsp(algorithm, cities):\n",
    "    t0 = process_time()\n",
    "    tour = algorithm(cities)\n",
    "    t1 = process_time()\n",
    "    assert Counter(tour) == Counter(cities)\n",
    "    visualize_tour(tour)\n",
    "    print(\"{}:{} => tour length {:.0f}(in {:.3f} sec)\".format(name(algorithm), len(tour), distance_tour(tour), t1-t0))\n",
    "    \n",
    "def name(algorithm): return algorithm.__name__.replace('_tsp','')"
   ]
  },
  {
   "cell_type": "code",
   "execution_count": 6,
   "metadata": {},
   "outputs": [],
   "source": [
    "def brute_force(cities):\n",
    "    \"Generate all possible tours of the cities and choose the shortest tour.\"\n",
    "    return shortest_tour(alltours(cities))\n",
    "def shortest_tour(tours): return min(tours, key=distance_tour)"
   ]
  },
  {
   "cell_type": "code",
   "execution_count": 13,
   "metadata": {},
   "outputs": [
    {
     "name": "stdout",
     "output_type": "stream",
     "text": [
      "\n",
      "Pilihan Kota\n",
      "1.jakarta\n",
      "2.bandung\n",
      "3.jogja\n",
      "4.surabaya\n",
      "5.banten\n",
      "\n",
      "\n",
      "Pilih Kota: \n",
      "jakarta\n",
      "\n",
      "\n",
      "['jakarta', 'surabaya', 'bandung', 'jogja', 'banten', 'jakarta'] 665\n",
      "['jakarta', 'surabaya', 'bandung', 'banten', 'jogja', 'jakarta'] 677\n",
      "['jakarta', 'surabaya', 'jogja', 'bandung', 'banten', 'jakarta'] 680\n",
      "['jakarta', 'surabaya', 'jogja', 'banten', 'bandung', 'jakarta'] 753\n",
      "['jakarta', 'surabaya', 'banten', 'bandung', 'jogja', 'jakarta'] 699\n",
      "['jakarta', 'surabaya', 'banten', 'jogja', 'bandung', 'jakarta'] 753\n",
      "['jakarta', 'bandung', 'surabaya', 'jogja', 'banten', 'jakarta'] 620\n",
      "['jakarta', 'bandung', 'surabaya', 'banten', 'jogja', 'jakarta'] 637\n",
      "['jakarta', 'bandung', 'jogja', 'surabaya', 'banten', 'jakarta'] 285\n",
      "['jakarta', 'bandung', 'jogja', 'banten', 'surabaya', 'jakarta'] 768\n",
      "['jakarta', 'bandung', 'banten', 'surabaya', 'jogja', 'jakarta'] 847\n",
      "['jakarta', 'bandung', 'banten', 'jogja', 'surabaya', 'jakarta'] 763\n",
      "['jakarta', 'jogja', 'surabaya', 'bandung', 'banten', 'jakarta'] 217\n",
      "['jakarta', 'jogja', 'surabaya', 'banten', 'bandung', 'jakarta'] 287\n",
      "['jakarta', 'jogja', 'bandung', 'surabaya', 'banten', 'jakarta'] 597\n",
      "['jakarta', 'jogja', 'bandung', 'banten', 'surabaya', 'jakarta'] 707\n",
      "['jakarta', 'jogja', 'banten', 'surabaya', 'bandung', 'jakarta'] 870\n",
      "['jakarta', 'jogja', 'banten', 'bandung', 'surabaya', 'jakarta'] 732\n",
      "['jakarta', 'banten', 'surabaya', 'bandung', 'jogja', 'jakarta'] 788\n",
      "['jakarta', 'banten', 'surabaya', 'jogja', 'bandung', 'jakarta'] 841\n",
      "['jakarta', 'banten', 'bandung', 'surabaya', 'jogja', 'jakarta'] 620\n",
      "['jakarta', 'banten', 'bandung', 'jogja', 'surabaya', 'jakarta'] 718\n",
      "['jakarta', 'banten', 'jogja', 'surabaya', 'bandung', 'jakarta'] 324\n",
      "['jakarta', 'banten', 'jogja', 'bandung', 'surabaya', 'jakarta'] 734\n",
      "\n",
      "\n",
      "Rutenya : [217, ['jakarta', 'jogja', 'surabaya', 'bandung', 'banten', 'jakarta']]\n",
      "brute_force:10 => tour length 985(in 39.219 sec)\n"
     ]
    },
    {
     "data": {
      "image/png": "[encoded data removed]",
      "text/plain": [
       "<Figure size 432x288 with 1 Axes>"
      ]
     },
     "metadata": {
      "needs_background": "light"
     },
     "output_type": "display_data"
    }
   ],
   "source": [
    "rute = []\n",
    "def jalur(node, kota, jalan, jarak):\n",
    "    jalan.append(node)\n",
    "    \n",
    "    if len(kota) == len(jalan):\n",
    "        global routes\n",
    "        jalan.append(jalan[0])\n",
    "        jarak += kota[jalan[-2]][jalan[0]]\n",
    "        print (jalan, jarak)\n",
    "        rute.append([jarak, jalan])\n",
    "        return\n",
    "\n",
    "    if len(jalan) > 1:\n",
    "        jarak += kota[jalan[-2]][node]\n",
    "\n",
    "    for city in kota:\n",
    "        if city not in jalan:\n",
    "            jalur(city, dict(kota), list(jalan), jarak)\n",
    "\n",
    "if __name__ == '__main__':\n",
    "    kota = {\n",
    "        'jakarta': {\n",
    "            'surabaya': 500,\n",
    "            'bandung': 105,\n",
    "            'jogja': 67,\n",
    "            'banten':86\n",
    "        },\n",
    "        'surabaya': {\n",
    "            'jakarta': 500,\n",
    "            'bandung': 35,\n",
    "            'banten':65,\n",
    "            'jogja': 50\n",
    "        },\n",
    "        'bandung': {\n",
    "            'banten':75,\n",
    "            'jakarta': 105,\n",
    "            'surabaya': 400,\n",
    "            'jogja': 65\n",
    "        },\n",
    "        'jogja': {\n",
    "            'jakarta': 67,\n",
    "            'banten' :98,\n",
    "            'surabaya': 50,\n",
    "            'bandung': 65\n",
    "        },\n",
    "         'banten': {\n",
    "            'bandung': 67,\n",
    "            'surabaya': 600,\n",
    "            'jakarta': 65,\n",
    "            'jogja':83\n",
    "        },\n",
    "        \n",
    "    }\n",
    "    print(\"\\nPilihan Kota\\n1.jakarta\\n2.bandung\\n3.jogja\\n4.surabaya\\n5.banten\")\n",
    "    print (\"\\n\")\n",
    "    print(\"Pilih Kota: \")\n",
    "    Start = input()\n",
    "    print (\"\\n\")\n",
    "    jalur(Start, kota, [], 0)\n",
    "    print (\"\\n\")\n",
    "    rute.sort()\n",
    "    print (\"Rutenya : %s\" % rute[0])\n",
    "    tsp(brute_force, generate_cities(10))"
   ]
  },
  {
   "cell_type": "code",
   "execution_count": null,
   "metadata": {},
   "outputs": [],
   "source": []
  },
  {
   "cell_type": "code",
   "execution_count": null,
   "metadata": {},
   "outputs": [],
   "source": []
  }
 ],
 "metadata": {
  "kernelspec": {
   "display_name": "Python 3",
   "language": "python",
   "name": "python3"
  },
  "language_info": {
   "codemirror_mode": {
    "name": "ipython",
    "version": 3
   },
   "file_extension": ".py",
   "mimetype": "text/x-python",
   "name": "python",
   "nbconvert_exporter": "python",
   "pygments_lexer": "ipython3",
   "version": "3.8.3"
  }
 },
 "nbformat": 4,
 "nbformat_minor": 4
}
